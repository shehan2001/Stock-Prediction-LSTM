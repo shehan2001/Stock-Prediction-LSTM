{
 "cells": [
  {
   "cell_type": "code",
   "execution_count": 1,
   "metadata": {},
   "outputs": [],
   "source": [
    "# Importing the libraries\n",
    "import numpy as np\n",
    "import matplotlib.pyplot as plt\n",
    "import pandas as pd\n",
    "import datetime"
   ]
  },
  {
   "cell_type": "code",
   "execution_count": 2,
   "metadata": {},
   "outputs": [],
   "source": [
    "# Dataset for training \n",
    "dataset = pd.read_csv('Google_Stock_Price_Train.csv',index_col=\"Date\",parse_dates=True)\n"
   ]
  },
  {
   "cell_type": "code",
   "execution_count": 3,
   "metadata": {},
   "outputs": [
    {
     "data": {
      "text/plain": [
       "Open      False\n",
       "High      False\n",
       "Low       False\n",
       "Close     False\n",
       "Volume    False\n",
       "dtype: bool"
      ]
     },
     "execution_count": 3,
     "metadata": {},
     "output_type": "execute_result"
    }
   ],
   "source": [
    "# used to check for missing values\n",
    "dataset.isna().any()"
   ]
  },
  {
   "cell_type": "code",
   "execution_count": 4,
   "metadata": {},
   "outputs": [],
   "source": [
    "# selects column of \"Close\", replaces any value with comma and replaces it with \" \". It also converts the string into a float\n",
    "dataset[\"Close\"] = dataset[\"Close\"].str.replace(',', '').astype(float)\n"
   ]
  },
  {
   "cell_type": "code",
   "execution_count": 5,
   "metadata": {},
   "outputs": [],
   "source": [
    "# selects column of \"Volume\", replaces any value with comma and replaces it with \" \". It also converts the string into a float\n",
    "dataset[\"Volume\"] = dataset[\"Volume\"].str.replace(',', '').astype(float)"
   ]
  },
  {
   "cell_type": "code",
   "execution_count": 6,
   "metadata": {},
   "outputs": [
    {
     "data": {
      "text/html": [
       "<div>\n",
       "<style scoped>\n",
       "    .dataframe tbody tr th:only-of-type {\n",
       "        vertical-align: middle;\n",
       "    }\n",
       "\n",
       "    .dataframe tbody tr th {\n",
       "        vertical-align: top;\n",
       "    }\n",
       "\n",
       "    .dataframe thead th {\n",
       "        text-align: right;\n",
       "    }\n",
       "</style>\n",
       "<table border=\"1\" class=\"dataframe\">\n",
       "  <thead>\n",
       "    <tr style=\"text-align: right;\">\n",
       "      <th></th>\n",
       "      <th>Open</th>\n",
       "      <th>High</th>\n",
       "      <th>Low</th>\n",
       "      <th>Close</th>\n",
       "      <th>Volume</th>\n",
       "    </tr>\n",
       "    <tr>\n",
       "      <th>Date</th>\n",
       "      <th></th>\n",
       "      <th></th>\n",
       "      <th></th>\n",
       "      <th></th>\n",
       "      <th></th>\n",
       "    </tr>\n",
       "  </thead>\n",
       "  <tbody>\n",
       "    <tr>\n",
       "      <th>2012-01-03</th>\n",
       "      <td>NaN</td>\n",
       "      <td>NaN</td>\n",
       "      <td>NaN</td>\n",
       "      <td>NaN</td>\n",
       "      <td>NaN</td>\n",
       "    </tr>\n",
       "    <tr>\n",
       "      <th>2012-01-04</th>\n",
       "      <td>NaN</td>\n",
       "      <td>NaN</td>\n",
       "      <td>NaN</td>\n",
       "      <td>NaN</td>\n",
       "      <td>NaN</td>\n",
       "    </tr>\n",
       "    <tr>\n",
       "      <th>2012-01-05</th>\n",
       "      <td>NaN</td>\n",
       "      <td>NaN</td>\n",
       "      <td>NaN</td>\n",
       "      <td>NaN</td>\n",
       "      <td>NaN</td>\n",
       "    </tr>\n",
       "    <tr>\n",
       "      <th>2012-01-06</th>\n",
       "      <td>NaN</td>\n",
       "      <td>NaN</td>\n",
       "      <td>NaN</td>\n",
       "      <td>NaN</td>\n",
       "      <td>NaN</td>\n",
       "    </tr>\n",
       "    <tr>\n",
       "      <th>2012-01-09</th>\n",
       "      <td>NaN</td>\n",
       "      <td>NaN</td>\n",
       "      <td>NaN</td>\n",
       "      <td>NaN</td>\n",
       "      <td>NaN</td>\n",
       "    </tr>\n",
       "    <tr>\n",
       "      <th>2012-01-10</th>\n",
       "      <td>NaN</td>\n",
       "      <td>NaN</td>\n",
       "      <td>NaN</td>\n",
       "      <td>NaN</td>\n",
       "      <td>NaN</td>\n",
       "    </tr>\n",
       "    <tr>\n",
       "      <th>2012-01-11</th>\n",
       "      <td>323.002857</td>\n",
       "      <td>325.392857</td>\n",
       "      <td>318.682857</td>\n",
       "      <td>643.132857</td>\n",
       "      <td>7.208100e+06</td>\n",
       "    </tr>\n",
       "    <tr>\n",
       "      <th>2012-01-12</th>\n",
       "      <td>321.457143</td>\n",
       "      <td>322.882857</td>\n",
       "      <td>316.841429</td>\n",
       "      <td>638.037143</td>\n",
       "      <td>6.691514e+06</td>\n",
       "    </tr>\n",
       "    <tr>\n",
       "      <th>2012-01-13</th>\n",
       "      <td>318.698571</td>\n",
       "      <td>319.801429</td>\n",
       "      <td>314.025714</td>\n",
       "      <td>631.870000</td>\n",
       "      <td>6.531857e+06</td>\n",
       "    </tr>\n",
       "    <tr>\n",
       "      <th>2012-01-17</th>\n",
       "      <td>316.552857</td>\n",
       "      <td>317.524286</td>\n",
       "      <td>311.851429</td>\n",
       "      <td>627.534286</td>\n",
       "      <td>6.137929e+06</td>\n",
       "    </tr>\n",
       "    <tr>\n",
       "      <th>2012-01-18</th>\n",
       "      <td>314.238571</td>\n",
       "      <td>315.674286</td>\n",
       "      <td>309.882857</td>\n",
       "      <td>625.097143</td>\n",
       "      <td>6.157657e+06</td>\n",
       "    </tr>\n",
       "    <tr>\n",
       "      <th>2012-01-19</th>\n",
       "      <td>313.847143</td>\n",
       "      <td>315.247143</td>\n",
       "      <td>310.610000</td>\n",
       "      <td>627.534286</td>\n",
       "      <td>6.296086e+06</td>\n",
       "    </tr>\n",
       "    <tr>\n",
       "      <th>2012-01-20</th>\n",
       "      <td>311.055714</td>\n",
       "      <td>312.201429</td>\n",
       "      <td>308.104286</td>\n",
       "      <td>622.242857</td>\n",
       "      <td>8.068629e+06</td>\n",
       "    </tr>\n",
       "    <tr>\n",
       "      <th>2012-01-23</th>\n",
       "      <td>308.387143</td>\n",
       "      <td>309.302857</td>\n",
       "      <td>305.402857</td>\n",
       "      <td>616.481429</td>\n",
       "      <td>8.359129e+06</td>\n",
       "    </tr>\n",
       "    <tr>\n",
       "      <th>2012-01-24</th>\n",
       "      <td>305.192857</td>\n",
       "      <td>306.085714</td>\n",
       "      <td>301.951429</td>\n",
       "      <td>609.541429</td>\n",
       "      <td>8.697700e+06</td>\n",
       "    </tr>\n",
       "    <tr>\n",
       "      <th>2012-01-25</th>\n",
       "      <td>301.724286</td>\n",
       "      <td>302.652857</td>\n",
       "      <td>298.060000</td>\n",
       "      <td>601.634286</td>\n",
       "      <td>9.466400e+06</td>\n",
       "    </tr>\n",
       "    <tr>\n",
       "      <th>2012-01-26</th>\n",
       "      <td>297.454286</td>\n",
       "      <td>298.561429</td>\n",
       "      <td>293.710000</td>\n",
       "      <td>593.017143</td>\n",
       "      <td>9.844071e+06</td>\n",
       "    </tr>\n",
       "    <tr>\n",
       "      <th>2012-01-27</th>\n",
       "      <td>293.480000</td>\n",
       "      <td>294.741429</td>\n",
       "      <td>289.952857</td>\n",
       "      <td>585.475714</td>\n",
       "      <td>1.008950e+07</td>\n",
       "    </tr>\n",
       "    <tr>\n",
       "      <th>2012-01-30</th>\n",
       "      <td>289.001429</td>\n",
       "      <td>290.401429</td>\n",
       "      <td>285.821429</td>\n",
       "      <td>576.660000</td>\n",
       "      <td>8.949586e+06</td>\n",
       "    </tr>\n",
       "    <tr>\n",
       "      <th>2012-01-31</th>\n",
       "      <td>288.465714</td>\n",
       "      <td>289.902857</td>\n",
       "      <td>285.355714</td>\n",
       "      <td>575.821429</td>\n",
       "      <td>6.530857e+06</td>\n",
       "    </tr>\n",
       "  </tbody>\n",
       "</table>\n",
       "</div>"
      ],
      "text/plain": [
       "                  Open        High         Low       Close        Volume\n",
       "Date                                                                    \n",
       "2012-01-03         NaN         NaN         NaN         NaN           NaN\n",
       "2012-01-04         NaN         NaN         NaN         NaN           NaN\n",
       "2012-01-05         NaN         NaN         NaN         NaN           NaN\n",
       "2012-01-06         NaN         NaN         NaN         NaN           NaN\n",
       "2012-01-09         NaN         NaN         NaN         NaN           NaN\n",
       "2012-01-10         NaN         NaN         NaN         NaN           NaN\n",
       "2012-01-11  323.002857  325.392857  318.682857  643.132857  7.208100e+06\n",
       "2012-01-12  321.457143  322.882857  316.841429  638.037143  6.691514e+06\n",
       "2012-01-13  318.698571  319.801429  314.025714  631.870000  6.531857e+06\n",
       "2012-01-17  316.552857  317.524286  311.851429  627.534286  6.137929e+06\n",
       "2012-01-18  314.238571  315.674286  309.882857  625.097143  6.157657e+06\n",
       "2012-01-19  313.847143  315.247143  310.610000  627.534286  6.296086e+06\n",
       "2012-01-20  311.055714  312.201429  308.104286  622.242857  8.068629e+06\n",
       "2012-01-23  308.387143  309.302857  305.402857  616.481429  8.359129e+06\n",
       "2012-01-24  305.192857  306.085714  301.951429  609.541429  8.697700e+06\n",
       "2012-01-25  301.724286  302.652857  298.060000  601.634286  9.466400e+06\n",
       "2012-01-26  297.454286  298.561429  293.710000  593.017143  9.844071e+06\n",
       "2012-01-27  293.480000  294.741429  289.952857  585.475714  1.008950e+07\n",
       "2012-01-30  289.001429  290.401429  285.821429  576.660000  8.949586e+06\n",
       "2012-01-31  288.465714  289.902857  285.355714  575.821429  6.530857e+06"
      ]
     },
     "execution_count": 6,
     "metadata": {},
     "output_type": "execute_result"
    }
   ],
   "source": [
    "# 7 day rolling mean\n",
    "dataset.rolling(7).mean().head(20)"
   ]
  },
  {
   "cell_type": "code",
   "execution_count": 7,
   "metadata": {},
   "outputs": [],
   "source": [
    "# Used to calculate a rolling mean of the \"Close\" column in the DataFrame \"dataset\" and adds it as a new column named \"Close: 30 Day Mean\"\n",
    "\n",
    "dataset['Close: 30 Day Mean'] = dataset['Close'].rolling(window=30).mean()\n"
   ]
  },
  {
   "cell_type": "code",
   "execution_count": 8,
   "metadata": {},
   "outputs": [],
   "source": [
    "training_set=dataset['Open']\n",
    "training_set=pd.DataFrame(training_set)\n"
   ]
  },
  {
   "cell_type": "code",
   "execution_count": 9,
   "metadata": {},
   "outputs": [],
   "source": [
    "# Feature Scaling\n",
    "from sklearn.preprocessing import MinMaxScaler\n",
    "sc = MinMaxScaler(feature_range = (0, 1))\n",
    "training_set_scaled = sc.fit_transform(training_set)"
   ]
  },
  {
   "cell_type": "code",
   "execution_count": 10,
   "metadata": {},
   "outputs": [],
   "source": [
    "# Creating a data structure with 60 timesteps and 1 output\n",
    "X_train = []\n",
    "y_train = []\n",
    "for i in range(60, 1258):\n",
    "    X_train.append(training_set_scaled[i-60:i, 0])\n",
    "    y_train.append(training_set_scaled[i, 0])\n",
    "X_train, y_train = np.array(X_train), np.array(y_train)\n",
    "\n",
    "# Reshaping\n",
    "X_train = np.reshape(X_train, (X_train.shape[0], X_train.shape[1], 1))"
   ]
  },
  {
   "cell_type": "code",
   "execution_count": 11,
   "metadata": {},
   "outputs": [],
   "source": [
    "# Part 2 - Building the RNN\n",
    "\n",
    "# Importing the Keras libraries and packages\n",
    "from keras.models import Sequential\n",
    "from keras.layers import Dense\n",
    "from keras.layers import LSTM\n",
    "from keras.layers import GRU\n",
    "from keras.layers import Dropout\n",
    "\n",
    "\n"
   ]
  },
  {
   "cell_type": "code",
   "execution_count": 12,
   "metadata": {},
   "outputs": [],
   "source": [
    "# Initialising the RNN\n",
    "regressor = Sequential()\n",
    "\n"
   ]
  },
  {
   "cell_type": "code",
   "execution_count": 13,
   "metadata": {},
   "outputs": [],
   "source": [
    "# Adding the first GRU layer and some Dropout regularisation\n",
    "regressor.add(GRU(units = 100, return_sequences = True, input_shape = (X_train.shape[1], 1)))\n",
    "regressor.add(Dropout(0.2))\n",
    "\n",
    "# Adding a second GRU layer and some Dropout regularisation\n",
    "regressor.add(GRU(units = 100, return_sequences = True))\n",
    "regressor.add(Dropout(0.2))\n",
    "\n",
    "# Adding a third GEU layer and some Dropout regularisation\n",
    "regressor.add(GRU(units = 100, return_sequences = True))\n",
    "regressor.add(Dropout(0.2))\n",
    "\n",
    "# Adding a fourth GRU layer and some Dropout regularisation\n",
    "regressor.add(GRU(units = 100))\n",
    "regressor.add(Dropout(0.2))\n",
    "\n",
    "# Adding the output layer and some Dropout regularisation\n",
    "regressor.add(Dropout(0.2))\n",
    "regressor.add(Dense(units = 1))\n",
    "\n"
   ]
  },
  {
   "cell_type": "code",
   "execution_count": 14,
   "metadata": {},
   "outputs": [
    {
     "name": "stdout",
     "output_type": "stream",
     "text": [
      "Epoch 1/100\n",
      "38/38 [==============================] - 18s 199ms/step - loss: 0.0301\n",
      "Epoch 2/100\n",
      "38/38 [==============================] - 8s 197ms/step - loss: 0.0062\n",
      "Epoch 3/100\n",
      "38/38 [==============================] - 8s 212ms/step - loss: 0.0044\n",
      "Epoch 4/100\n",
      "38/38 [==============================] - 7s 196ms/step - loss: 0.0045\n",
      "Epoch 5/100\n",
      "38/38 [==============================] - 7s 186ms/step - loss: 0.0047\n",
      "Epoch 6/100\n",
      "38/38 [==============================] - 7s 183ms/step - loss: 0.0036\n",
      "Epoch 7/100\n",
      "38/38 [==============================] - 7s 197ms/step - loss: 0.0042\n",
      "Epoch 8/100\n",
      "38/38 [==============================] - 7s 188ms/step - loss: 0.0039\n",
      "Epoch 9/100\n",
      "38/38 [==============================] - 7s 188ms/step - loss: 0.0045\n",
      "Epoch 10/100\n",
      "38/38 [==============================] - 7s 197ms/step - loss: 0.0036\n",
      "Epoch 11/100\n",
      "38/38 [==============================] - 7s 187ms/step - loss: 0.0033\n",
      "Epoch 12/100\n",
      "38/38 [==============================] - 7s 181ms/step - loss: 0.0033\n",
      "Epoch 13/100\n",
      "38/38 [==============================] - 7s 189ms/step - loss: 0.0034\n",
      "Epoch 14/100\n",
      "38/38 [==============================] - 7s 194ms/step - loss: 0.0032\n",
      "Epoch 15/100\n",
      "38/38 [==============================] - 7s 194ms/step - loss: 0.0032\n",
      "Epoch 16/100\n",
      "38/38 [==============================] - 7s 196ms/step - loss: 0.0032\n",
      "Epoch 17/100\n",
      "38/38 [==============================] - 7s 177ms/step - loss: 0.0034\n",
      "Epoch 18/100\n",
      "38/38 [==============================] - 7s 173ms/step - loss: 0.0030\n",
      "Epoch 19/100\n",
      "38/38 [==============================] - 7s 184ms/step - loss: 0.0028\n",
      "Epoch 20/100\n",
      "38/38 [==============================] - 7s 186ms/step - loss: 0.0032\n",
      "Epoch 21/100\n",
      "38/38 [==============================] - 7s 189ms/step - loss: 0.0028\n",
      "Epoch 22/100\n",
      "38/38 [==============================] - 7s 192ms/step - loss: 0.0031\n",
      "Epoch 23/100\n",
      "38/38 [==============================] - 7s 189ms/step - loss: 0.0032\n",
      "Epoch 24/100\n",
      "38/38 [==============================] - 7s 171ms/step - loss: 0.0026\n",
      "Epoch 25/100\n",
      "38/38 [==============================] - 8s 201ms/step - loss: 0.0023\n",
      "Epoch 26/100\n",
      "38/38 [==============================] - 7s 186ms/step - loss: 0.0023\n",
      "Epoch 27/100\n",
      "38/38 [==============================] - 7s 190ms/step - loss: 0.0026\n",
      "Epoch 28/100\n",
      "38/38 [==============================] - 7s 181ms/step - loss: 0.0025\n",
      "Epoch 29/100\n",
      "38/38 [==============================] - 7s 184ms/step - loss: 0.0024\n",
      "Epoch 30/100\n",
      "38/38 [==============================] - 7s 189ms/step - loss: 0.0024\n",
      "Epoch 31/100\n",
      "38/38 [==============================] - 7s 193ms/step - loss: 0.0022\n",
      "Epoch 32/100\n",
      "38/38 [==============================] - 7s 194ms/step - loss: 0.0025\n",
      "Epoch 33/100\n",
      "38/38 [==============================] - 7s 187ms/step - loss: 0.0023\n",
      "Epoch 34/100\n",
      "38/38 [==============================] - 7s 189ms/step - loss: 0.0023\n",
      "Epoch 35/100\n",
      "38/38 [==============================] - 7s 185ms/step - loss: 0.0024\n",
      "Epoch 36/100\n",
      "38/38 [==============================] - 7s 181ms/step - loss: 0.0022\n",
      "Epoch 37/100\n",
      "38/38 [==============================] - 7s 192ms/step - loss: 0.0024\n",
      "Epoch 38/100\n",
      "38/38 [==============================] - 7s 184ms/step - loss: 0.0021\n",
      "Epoch 39/100\n",
      "38/38 [==============================] - 7s 177ms/step - loss: 0.0019\n",
      "Epoch 40/100\n",
      "38/38 [==============================] - 7s 174ms/step - loss: 0.0022\n",
      "Epoch 41/100\n",
      "38/38 [==============================] - 7s 177ms/step - loss: 0.0020\n",
      "Epoch 42/100\n",
      "38/38 [==============================] - 7s 172ms/step - loss: 0.0022\n",
      "Epoch 43/100\n",
      "38/38 [==============================] - 7s 176ms/step - loss: 0.0018\n",
      "Epoch 44/100\n",
      "38/38 [==============================] - 7s 173ms/step - loss: 0.0019\n",
      "Epoch 45/100\n",
      "38/38 [==============================] - 7s 174ms/step - loss: 0.0023\n",
      "Epoch 46/100\n",
      "38/38 [==============================] - 7s 175ms/step - loss: 0.0023\n",
      "Epoch 47/100\n",
      "38/38 [==============================] - 7s 173ms/step - loss: 0.0018\n",
      "Epoch 48/100\n",
      "38/38 [==============================] - 7s 176ms/step - loss: 0.0019\n",
      "Epoch 49/100\n",
      "38/38 [==============================] - 7s 173ms/step - loss: 0.0018\n",
      "Epoch 50/100\n",
      "38/38 [==============================] - 7s 173ms/step - loss: 0.0024\n",
      "Epoch 51/100\n",
      "38/38 [==============================] - 7s 176ms/step - loss: 0.0019\n",
      "Epoch 52/100\n",
      "38/38 [==============================] - 7s 172ms/step - loss: 0.0018\n",
      "Epoch 53/100\n",
      "38/38 [==============================] - 7s 176ms/step - loss: 0.0018\n",
      "Epoch 54/100\n",
      "38/38 [==============================] - 7s 173ms/step - loss: 0.0020\n",
      "Epoch 55/100\n",
      "38/38 [==============================] - 7s 175ms/step - loss: 0.0021\n",
      "Epoch 56/100\n",
      "38/38 [==============================] - 7s 172ms/step - loss: 0.0019\n",
      "Epoch 57/100\n",
      "38/38 [==============================] - 7s 171ms/step - loss: 0.0017\n",
      "Epoch 58/100\n",
      "38/38 [==============================] - 7s 175ms/step - loss: 0.0017\n",
      "Epoch 59/100\n",
      "38/38 [==============================] - 6s 169ms/step - loss: 0.0018\n",
      "Epoch 60/100\n",
      "38/38 [==============================] - 7s 173ms/step - loss: 0.0018\n",
      "Epoch 61/100\n",
      "38/38 [==============================] - 7s 172ms/step - loss: 0.0018\n",
      "Epoch 62/100\n",
      "38/38 [==============================] - 6s 170ms/step - loss: 0.0016\n",
      "Epoch 63/100\n",
      "38/38 [==============================] - 7s 175ms/step - loss: 0.0017\n",
      "Epoch 64/100\n",
      "38/38 [==============================] - 6s 169ms/step - loss: 0.0018\n",
      "Epoch 65/100\n",
      "38/38 [==============================] - 7s 173ms/step - loss: 0.0023\n",
      "Epoch 66/100\n",
      "38/38 [==============================] - 6s 169ms/step - loss: 0.0019\n",
      "Epoch 67/100\n",
      "38/38 [==============================] - 6s 171ms/step - loss: 0.0017\n",
      "Epoch 68/100\n",
      "38/38 [==============================] - 7s 172ms/step - loss: 0.0018\n",
      "Epoch 69/100\n",
      "38/38 [==============================] - 7s 176ms/step - loss: 0.0015\n",
      "Epoch 70/100\n",
      "38/38 [==============================] - 7s 178ms/step - loss: 0.0016\n",
      "Epoch 71/100\n",
      "38/38 [==============================] - 6s 169ms/step - loss: 0.0016\n",
      "Epoch 72/100\n",
      "38/38 [==============================] - 7s 173ms/step - loss: 0.0015\n",
      "Epoch 73/100\n",
      "38/38 [==============================] - 7s 173ms/step - loss: 0.0015\n",
      "Epoch 74/100\n",
      "38/38 [==============================] - 6s 170ms/step - loss: 0.0016\n",
      "Epoch 75/100\n",
      "38/38 [==============================] - 7s 178ms/step - loss: 0.0016\n",
      "Epoch 76/100\n",
      "38/38 [==============================] - 7s 172ms/step - loss: 0.0015\n",
      "Epoch 77/100\n",
      "38/38 [==============================] - 7s 173ms/step - loss: 0.0013\n",
      "Epoch 78/100\n",
      "38/38 [==============================] - 7s 173ms/step - loss: 0.0013\n",
      "Epoch 79/100\n",
      "38/38 [==============================] - 7s 173ms/step - loss: 0.0015\n",
      "Epoch 80/100\n",
      "38/38 [==============================] - 7s 174ms/step - loss: 0.0014\n",
      "Epoch 81/100\n",
      "38/38 [==============================] - 7s 172ms/step - loss: 0.0014\n",
      "Epoch 82/100\n",
      "38/38 [==============================] - 7s 178ms/step - loss: 0.0013\n",
      "Epoch 83/100\n",
      "38/38 [==============================] - 7s 172ms/step - loss: 0.0013\n",
      "Epoch 84/100\n",
      "38/38 [==============================] - 7s 173ms/step - loss: 0.0013\n",
      "Epoch 85/100\n",
      "38/38 [==============================] - 7s 173ms/step - loss: 0.0016\n",
      "Epoch 86/100\n",
      "38/38 [==============================] - 6s 168ms/step - loss: 0.0015\n",
      "Epoch 87/100\n",
      "38/38 [==============================] - 7s 174ms/step - loss: 0.0013\n",
      "Epoch 88/100\n",
      "38/38 [==============================] - 6s 169ms/step - loss: 0.0013\n",
      "Epoch 89/100\n",
      "38/38 [==============================] - 7s 172ms/step - loss: 0.0015\n",
      "Epoch 90/100\n",
      "38/38 [==============================] - 7s 173ms/step - loss: 0.0012\n",
      "Epoch 91/100\n",
      "38/38 [==============================] - 6s 169ms/step - loss: 0.0012\n",
      "Epoch 92/100\n",
      "38/38 [==============================] - 7s 172ms/step - loss: 0.0012\n",
      "Epoch 93/100\n",
      "38/38 [==============================] - 6s 168ms/step - loss: 0.0012\n",
      "Epoch 94/100\n",
      "38/38 [==============================] - 7s 172ms/step - loss: 0.0015\n",
      "Epoch 95/100\n",
      "38/38 [==============================] - 7s 179ms/step - loss: 0.0015\n",
      "Epoch 96/100\n",
      "38/38 [==============================] - 7s 181ms/step - loss: 0.0012\n",
      "Epoch 97/100\n",
      "38/38 [==============================] - 7s 177ms/step - loss: 0.0013\n",
      "Epoch 98/100\n",
      "38/38 [==============================] - 7s 178ms/step - loss: 0.0015\n",
      "Epoch 99/100\n"
     ]
    },
    {
     "name": "stdout",
     "output_type": "stream",
     "text": [
      "38/38 [==============================] - 7s 176ms/step - loss: 0.0013\n",
      "Epoch 100/100\n",
      "38/38 [==============================] - 7s 174ms/step - loss: 0.0014\n"
     ]
    },
    {
     "data": {
      "text/plain": [
       "<keras.callbacks.History at 0x1d6386ccfa0>"
      ]
     },
     "execution_count": 14,
     "metadata": {},
     "output_type": "execute_result"
    }
   ],
   "source": [
    "# Compiling the RNN\n",
    "regressor.compile(optimizer = 'adam', loss = 'mean_squared_error')\n",
    "\n",
    "# Fitting the RNN to the Training set\n",
    "regressor.fit(X_train, y_train, epochs = 100, batch_size = 32)\n"
   ]
  },
  {
   "cell_type": "code",
   "execution_count": 15,
   "metadata": {},
   "outputs": [],
   "source": [
    "# Part 3 - Making the predictions and visualising the results\n",
    "\n",
    "# Getting the real stock price of 2017\n",
    "dataset_test = pd.read_csv('Google_Stock_Price_Test.csv',index_col=\"Date\",parse_dates=True)\n",
    "\n"
   ]
  },
  {
   "cell_type": "code",
   "execution_count": 16,
   "metadata": {},
   "outputs": [],
   "source": [
    "real_stock_price = dataset_test.iloc[:, 1:2].values"
   ]
  },
  {
   "cell_type": "code",
   "execution_count": 17,
   "metadata": {},
   "outputs": [
    {
     "data": {
      "text/html": [
       "<div>\n",
       "<style scoped>\n",
       "    .dataframe tbody tr th:only-of-type {\n",
       "        vertical-align: middle;\n",
       "    }\n",
       "\n",
       "    .dataframe tbody tr th {\n",
       "        vertical-align: top;\n",
       "    }\n",
       "\n",
       "    .dataframe thead th {\n",
       "        text-align: right;\n",
       "    }\n",
       "</style>\n",
       "<table border=\"1\" class=\"dataframe\">\n",
       "  <thead>\n",
       "    <tr style=\"text-align: right;\">\n",
       "      <th></th>\n",
       "      <th>Open</th>\n",
       "      <th>High</th>\n",
       "      <th>Low</th>\n",
       "      <th>Close</th>\n",
       "      <th>Volume</th>\n",
       "    </tr>\n",
       "    <tr>\n",
       "      <th>Date</th>\n",
       "      <th></th>\n",
       "      <th></th>\n",
       "      <th></th>\n",
       "      <th></th>\n",
       "      <th></th>\n",
       "    </tr>\n",
       "  </thead>\n",
       "  <tbody>\n",
       "    <tr>\n",
       "      <th>2017-01-03</th>\n",
       "      <td>778.81</td>\n",
       "      <td>789.63</td>\n",
       "      <td>775.80</td>\n",
       "      <td>786.14</td>\n",
       "      <td>1,657,300</td>\n",
       "    </tr>\n",
       "    <tr>\n",
       "      <th>2017-01-04</th>\n",
       "      <td>788.36</td>\n",
       "      <td>791.34</td>\n",
       "      <td>783.16</td>\n",
       "      <td>786.90</td>\n",
       "      <td>1,073,000</td>\n",
       "    </tr>\n",
       "    <tr>\n",
       "      <th>2017-01-05</th>\n",
       "      <td>786.08</td>\n",
       "      <td>794.48</td>\n",
       "      <td>785.02</td>\n",
       "      <td>794.02</td>\n",
       "      <td>1,335,200</td>\n",
       "    </tr>\n",
       "    <tr>\n",
       "      <th>2017-01-06</th>\n",
       "      <td>795.26</td>\n",
       "      <td>807.90</td>\n",
       "      <td>792.20</td>\n",
       "      <td>806.15</td>\n",
       "      <td>1,640,200</td>\n",
       "    </tr>\n",
       "    <tr>\n",
       "      <th>2017-01-09</th>\n",
       "      <td>806.40</td>\n",
       "      <td>809.97</td>\n",
       "      <td>802.83</td>\n",
       "      <td>806.65</td>\n",
       "      <td>1,272,400</td>\n",
       "    </tr>\n",
       "  </tbody>\n",
       "</table>\n",
       "</div>"
      ],
      "text/plain": [
       "              Open    High     Low   Close     Volume\n",
       "Date                                                 \n",
       "2017-01-03  778.81  789.63  775.80  786.14  1,657,300\n",
       "2017-01-04  788.36  791.34  783.16  786.90  1,073,000\n",
       "2017-01-05  786.08  794.48  785.02  794.02  1,335,200\n",
       "2017-01-06  795.26  807.90  792.20  806.15  1,640,200\n",
       "2017-01-09  806.40  809.97  802.83  806.65  1,272,400"
      ]
     },
     "execution_count": 17,
     "metadata": {},
     "output_type": "execute_result"
    }
   ],
   "source": [
    "dataset_test.head()"
   ]
  },
  {
   "cell_type": "code",
   "execution_count": 18,
   "metadata": {},
   "outputs": [
    {
     "name": "stdout",
     "output_type": "stream",
     "text": [
      "<class 'pandas.core.frame.DataFrame'>\n",
      "DatetimeIndex: 20 entries, 2017-01-03 to 2017-01-31\n",
      "Data columns (total 5 columns):\n",
      " #   Column  Non-Null Count  Dtype  \n",
      "---  ------  --------------  -----  \n",
      " 0   Open    20 non-null     float64\n",
      " 1   High    20 non-null     float64\n",
      " 2   Low     20 non-null     float64\n",
      " 3   Close   20 non-null     float64\n",
      " 4   Volume  20 non-null     object \n",
      "dtypes: float64(4), object(1)\n",
      "memory usage: 960.0+ bytes\n"
     ]
    }
   ],
   "source": [
    "dataset_test.info()"
   ]
  },
  {
   "cell_type": "code",
   "execution_count": 19,
   "metadata": {},
   "outputs": [],
   "source": [
    "dataset_test[\"Volume\"] = dataset_test[\"Volume\"].str.replace(',', '').astype(float)"
   ]
  },
  {
   "cell_type": "code",
   "execution_count": 20,
   "metadata": {},
   "outputs": [],
   "source": [
    "test_set=dataset_test['Open']\n",
    "test_set=pd.DataFrame(test_set)"
   ]
  },
  {
   "cell_type": "code",
   "execution_count": 21,
   "metadata": {},
   "outputs": [
    {
     "name": "stdout",
     "output_type": "stream",
     "text": [
      "<class 'pandas.core.frame.DataFrame'>\n",
      "DatetimeIndex: 20 entries, 2017-01-03 to 2017-01-31\n",
      "Data columns (total 1 columns):\n",
      " #   Column  Non-Null Count  Dtype  \n",
      "---  ------  --------------  -----  \n",
      " 0   Open    20 non-null     float64\n",
      "dtypes: float64(1)\n",
      "memory usage: 320.0 bytes\n"
     ]
    }
   ],
   "source": [
    "test_set.info()"
   ]
  },
  {
   "cell_type": "code",
   "execution_count": 22,
   "metadata": {},
   "outputs": [
    {
     "name": "stderr",
     "output_type": "stream",
     "text": [
      "C:\\Users\\HP\\anaconda3\\lib\\site-packages\\sklearn\\base.py:409: UserWarning: X does not have valid feature names, but MinMaxScaler was fitted with feature names\n",
      "  warnings.warn(\n"
     ]
    },
    {
     "name": "stdout",
     "output_type": "stream",
     "text": [
      "1/1 [==============================] - 3s 3s/step\n"
     ]
    }
   ],
   "source": [
    "# Getting the predicted stock price of 2017\n",
    "dataset_total = pd.concat((dataset['Open'], dataset_test['Open']), axis = 0)\n",
    "inputs = dataset_total[len(dataset_total) - len(dataset_test) - 60:].values\n",
    "inputs = inputs.reshape(-1,1)\n",
    "inputs = sc.transform(inputs)\n",
    "X_test = []\n",
    "for i in range(60, 80):\n",
    "    X_test.append(inputs[i-60:i, 0])\n",
    "X_test = np.array(X_test)\n",
    "X_test = np.reshape(X_test, (X_test.shape[0], X_test.shape[1], 1))\n",
    "predicted_stock_price = regressor.predict(X_test)\n",
    "predicted_stock_price = sc.inverse_transform(predicted_stock_price)"
   ]
  },
  {
   "cell_type": "code",
   "execution_count": 23,
   "metadata": {},
   "outputs": [
    {
     "name": "stdout",
     "output_type": "stream",
     "text": [
      "<class 'pandas.core.frame.DataFrame'>\n",
      "RangeIndex: 20 entries, 0 to 19\n",
      "Data columns (total 1 columns):\n",
      " #   Column  Non-Null Count  Dtype  \n",
      "---  ------  --------------  -----  \n",
      " 0   0       20 non-null     float32\n",
      "dtypes: float32(1)\n",
      "memory usage: 208.0 bytes\n"
     ]
    }
   ],
   "source": [
    "predicted_stock_price=pd.DataFrame(predicted_stock_price)\n",
    "predicted_stock_price.info()"
   ]
  },
  {
   "cell_type": "code",
   "execution_count": 24,
   "metadata": {},
   "outputs": [
    {
     "data": {
      "image/png": "[encoded data removed]",
      "text/plain": [
       "<Figure size 432x288 with 1 Axes>"
      ]
     },
     "metadata": {
      "needs_background": "light"
     },
     "output_type": "display_data"
    }
   ],
   "source": [
    "\n",
    "# Visualising the results\n",
    "plt.plot(real_stock_price, color = 'red', label = 'Real Google Stock Price')\n",
    "plt.plot(predicted_stock_price, color = 'blue', label = 'Predicted Google Stock Price')\n",
    "plt.title('Google Stock Price Prediction')\n",
    "plt.xlabel('Time')\n",
    "plt.ylabel('Google Stock Price')\n",
    "plt.legend()\n",
    "plt.show()\n"
   ]
  },
  {
   "cell_type": "code",
   "execution_count": 25,
   "metadata": {},
   "outputs": [
    {
     "name": "stdout",
     "output_type": "stream",
     "text": [
      "Accuracy: -1.1215936668224198\n"
     ]
    }
   ],
   "source": [
    "from sklearn.metrics import r2_score\n",
    "\n",
    "\n",
    "accuracy = r2_score(real_stock_price, predicted_stock_price)\n",
    "print(\"Accuracy:\", accuracy)"
   ]
  }
 ],
 "metadata": {
  "kernelspec": {
   "display_name": "Python 3 (ipykernel)",
   "language": "python",
   "name": "python3"
  },
  "language_info": {
   "codemirror_mode": {
    "name": "ipython",
    "version": 3
   },
   "file_extension": ".py",
   "mimetype": "text/x-python",
   "name": "python",
   "nbconvert_exporter": "python",
   "pygments_lexer": "ipython3",
   "version": "3.9.12"
  }
 },
 "nbformat": 4,
 "nbformat_minor": 2
}
